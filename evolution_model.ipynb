{
 "cells": [
  {
   "cell_type": "code",
   "execution_count": 14,
   "metadata": {},
   "outputs": [],
   "source": [
    "'''\n",
    "Reproducing results from the following paper:\n",
    "    [1] P. Bak and K. Sneppen, Punctuated equilibrium and criticality in a simple model of evolution, Phys. Rev. Lett. 71 (1993) 4083.\n",
    "'''\n",
    "\n",
    "import numpy as np\n",
    "import random\n",
    "from matplotlib import pyplot as plt"
   ]
  },
  {
   "cell_type": "code",
   "execution_count": 43,
   "metadata": {},
   "outputs": [],
   "source": [
    "species_count = 4069\n",
    "iteration_count = 1000000\n",
    "\n",
    "species_fitness = np.random.rand((species_count))\n",
    "mutated = []\n",
    "dists = []\n",
    "mutated_barriers = []\n",
    "dt = []\n",
    "tc = 0.01\n",
    "\n",
    "weakest = np.argmin(species_fitness)\n",
    "mutated.append(weakest)\n",
    "mutated_barriers.append(species_fitness[weakest])\n",
    "species_fitness[weakest] = random.random()\n",
    "species_fitness[(weakest + 1) % species_fitness.size] = random.random()\n",
    "species_fitness[(weakest - 1) % species_fitness.size] = random.random()\n",
    "\n",
    "for _ in range(iteration_count - 1):\n",
    "    weakest = np.argmin(species_fitness)\n",
    "    dists.append(min(abs(weakest - mutated[-1]), abs(weakest + species_fitness.size - mutated[-1]), abs(weakest - species_fitness.size - mutated[-1])))\n",
    "    mutated.append(weakest)\n",
    "    mutated_barriers.append(species_fitness[weakest])\n",
    "    species_fitness[weakest] = random.random()\n",
    "    species_fitness[(weakest + 1) % species_fitness.size] = random.random()\n",
    "    species_fitness[(weakest - 1) % species_fitness.size] = random.random()\n",
    "    "
   ]
  },
  {
   "cell_type": "code",
   "execution_count": 44,
   "metadata": {},
   "outputs": [
    {
     "data": {
      "image/png": "[encoded data removed]",
      "text/plain": [
       "<Figure size 432x288 with 1 Axes>"
      ]
     },
     "metadata": {
      "needs_background": "light"
     },
     "output_type": "display_data"
    }
   ],
   "source": [
    "'''\n",
    "    This plot represents the hypothesis that when a species mutates, the next species to mutate will be \n",
    "    close to it in terms of \"distance\"\n",
    "'''\n",
    "plt.hist(dists, 300, log = True)\n",
    "plt.xscale('log')\n",
    "plt.xlim(10, 100)\n",
    "plt.ylim(10, 10000)\n",
    "plt.xlabel('log-distance')\n",
    "plt.ylabel('frequency')\n",
    "plt.show()"
   ]
  },
  {
   "cell_type": "code",
   "execution_count": 46,
   "metadata": {},
   "outputs": [
    {
     "data": {
      "image/png": "[encoded data removed]",
      "text/plain": [
       "<Figure size 432x288 with 1 Axes>"
      ]
     },
     "metadata": {
      "needs_background": "light"
     },
     "output_type": "display_data"
    }
   ],
   "source": [
    "plt.hist(mutated_barriers, density=True)\n",
    "plt.hist(species_fitness, density=True)\n",
    "plt.show()"
   ]
  }
 ],
 "metadata": {
  "kernelspec": {
   "display_name": "Python 3",
   "language": "python",
   "name": "python3"
  },
  "language_info": {
   "codemirror_mode": {
    "name": "ipython",
    "version": 3
   },
   "file_extension": ".py",
   "mimetype": "text/x-python",
   "name": "python",
   "nbconvert_exporter": "python",
   "pygments_lexer": "ipython3",
   "version": "3.6.9"
  }
 },
 "nbformat": 4,
 "nbformat_minor": 4
}
