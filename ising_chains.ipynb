{
 "cells": [
  {
   "cell_type": "code",
   "execution_count": 55,
   "metadata": {},
   "outputs": [],
   "source": [
    "import numpy as np\n",
    "from matplotlib import pyplot as plt\n",
    "from matplotlib import cm\n",
    "from matplotlib.colors import ListedColormap, LinearSegmentedColormap\n",
    "from matplotlib import animation, rc\n",
    "import matplotlib\n",
    "import random\n",
    "rc('animation', html='jshtml')"
   ]
  },
  {
   "cell_type": "code",
   "execution_count": 56,
   "metadata": {},
   "outputs": [],
   "source": [
    "def plotConfigurations(configurations):\n",
    "    fig = plt.figure(\"Simulation 1D\", figsize=(6,10))\n",
    "    ax = fig.add_subplot(111)\n",
    "    ax.imshow(np.asarray(configurations).transpose(), interpolation='none', aspect='auto', origin='lower')\n",
    "    ax.set_xlabel(r\"x\")\n",
    "    ax.set_ylabel(r\"Time\")\n",
    "    ax.set_xlim(0, None)\n",
    "    fig.suptitle(\"Simulation\")\n",
    "    plt.show()"
   ]
  },
  {
   "cell_type": "code",
   "execution_count": 57,
   "metadata": {},
   "outputs": [],
   "source": [
    "def plot_metropolis_2D(data):\n",
    "    cmap = cm.get_cmap('YlGnBu', 2)\n",
    "    plt.pcolormesh(data, cmap=cmap, rasterized=True, vmin=-4, vmax=4)\n",
    "    plt.show()"
   ]
  },
  {
   "cell_type": "code",
   "execution_count": 58,
   "metadata": {},
   "outputs": [],
   "source": [
    "def generate_ising_chain(dipoles):\n",
    "    return np.asarray([random.choice([-1,1]) for _ in range(dipoles)])"
   ]
  },
  {
   "cell_type": "code",
   "execution_count": 59,
   "metadata": {},
   "outputs": [],
   "source": [
    "def energy(conf, J = 1):\n",
    "    return -J * np.sum(np.multiply(conf[:-1], conf[1:]))"
   ]
  },
  {
   "cell_type": "code",
   "execution_count": 60,
   "metadata": {},
   "outputs": [],
   "source": [
    "def energy_alt(conf, J = 1):\n",
    "    return -J * np.sum(conf * np.roll(conf,1))"
   ]
  },
  {
   "cell_type": "code",
   "execution_count": 84,
   "metadata": {},
   "outputs": [],
   "source": [
    "def metropolis_1D(ising_chain, n, k_T, dipoles):\n",
    "    config = [ising_chain]\n",
    "    eold = energy_alt(config)\n",
    "    for k in range(n):\n",
    "        flipidx = random.randint(0, dipoles - 1)\n",
    "        trial = config[k].copy()\n",
    "        trial[flipidx] = trial[flipidx] * -1\n",
    "        etrial = energy_alt(trial)\n",
    "        if random.random() <= (np.exp((eold - etrial) / k_T)):\n",
    "            config.append(trial)\n",
    "            eold = etrial\n",
    "        else:\n",
    "            config.append(config[k])\n",
    "    return config"
   ]
  },
  {
   "cell_type": "code",
   "execution_count": 86,
   "metadata": {},
   "outputs": [
    {
     "data": {
      "image/png": "[encoded data removed]",
      "text/plain": [
       "<Figure size 432x720 with 1 Axes>"
      ]
     },
     "metadata": {
      "needs_background": "light"
     },
     "output_type": "display_data"
    }
   ],
   "source": [
    "'''\n",
    "If the consecutive dipoles are in opposite direction, they produce +J energy and and hence we expect \n",
    "more alternating diopoles for higher k_t values. For the same energy difference, at higher temperatures the value \n",
    "of (np.exp((eold - etrial) / k_T)) will be higher so we have a higher chance of picking a config at higher \n",
    "energies which means more chaotic chains are preferred.\n",
    "'''\n",
    "\n",
    "random.seed()\n",
    "dipoles = 100\n",
    "k_T = 0.1\n",
    "steps = dipoles * 100\n",
    "\n",
    "ising_chain = generate_ising_chain(dipoles)\n",
    "config_history = metropolis_1D(ising_chain, steps, k_T, dipoles)\n",
    "\n",
    "plotConfigurations(config_history)"
   ]
  },
  {
   "cell_type": "code",
   "execution_count": 91,
   "metadata": {},
   "outputs": [],
   "source": [
    "def plotConfigurations2D(configurations, interval=20):\n",
    "    '''\n",
    "    Can be used to plot your generated configurations in an animation.\n",
    "    @param configurations: List of configurations, where each configuration\n",
    "                       is a matrix of the 2D spin alignments.\n",
    "    @param interval: Time in ms each configuration is show during the animation.\n",
    "    '''\n",
    "    fig = plt.figure(\"Initial configuration\", figsize=(6,6))\n",
    "    ax = fig.add_subplot(111)\n",
    "    ax.imshow(configurations[0], interpolation='none', origin='lower')\n",
    "    ax.set_xlabel(r\"x\")\n",
    "    ax.set_ylabel(r\"y\")\n",
    "    fig.suptitle(\"Initial configuration\")\n",
    "    plt.show()\n",
    "    \n",
    "    fig = plt.figure(\"Final configuration\", figsize=(6,6))\n",
    "    ax = fig.add_subplot(111)\n",
    "    ax.imshow(configurations[0], interpolation='none', origin='lower')\n",
    "    ax.set_xlabel(r\"x\")\n",
    "    ax.set_ylabel(r\"y\")\n",
    "    fig.suptitle(\"Final configuration\")\n",
    "    plt.show()\n",
    "    \n",
    "    if len(configurations) > 1:\n",
    "        figAni = plt.figure(\"Simulation\", figsize=(6,6))\n",
    "        axAni = figAni.add_subplot(111)\n",
    "        im = axAni.imshow(configurations[0], interpolation='none', animated=True, origin='lower')\n",
    "        axAni.set_xlabel(r\"x\")\n",
    "        axAni.set_ylabel(r\"y\")\n",
    "        figAni.suptitle(\"Simulation\")\n",
    "\n",
    "        def updatefig(i):\n",
    "            print(i,end='\\r')\n",
    "            im.set_array(configurations[i])\n",
    "            return im,\n",
    "\n",
    "        ani = animation.FuncAnimation(figAni, updatefig, np.arange(1,len(configurations)), interval=interval, repeat=False)\n",
    "\n",
    "    return ani"
   ]
  },
  {
   "cell_type": "code",
   "execution_count": 92,
   "metadata": {},
   "outputs": [],
   "source": [
    "def generate_ising_chain_2D(dipoles):\n",
    "    return np.asarray([[random.choice([-1,1]) for _ in range(dipoles)] for _ in range(dipoles)])"
   ]
  },
  {
   "cell_type": "code",
   "execution_count": 93,
   "metadata": {},
   "outputs": [],
   "source": [
    "def energy2D(config, J = 1):\n",
    "    configx = np.roll(config, 1, 0)\n",
    "    configy = np.roll(config, 1, 1)\n",
    "    return -J * np.sum(config * configx + config * configy)"
   ]
  },
  {
   "cell_type": "code",
   "execution_count": 94,
   "metadata": {},
   "outputs": [],
   "source": [
    "def metropolis_2D(ising_chain, n, k_T, dipoles):\n",
    "    config = [ising_chain]\n",
    "    eold = energy2D(config)\n",
    "    for k in range(n):\n",
    "        flipi = random.randint(0, dipoles - 1)\n",
    "        flipj = random.randint(0, dipoles - 1)\n",
    "        trial = config[k].copy()\n",
    "        trial[flipi, flipj] = trial[flipi, flipj] * -1\n",
    "        etrial = energy_alt(trial)\n",
    "        if random.random() <= (np.exp((eold - etrial) / k_T)):\n",
    "            config.append(trial)\n",
    "            eold = etrial\n",
    "        else:\n",
    "            config.append(config[k])\n",
    "    return config"
   ]
  },
  {
   "cell_type": "code",
   "execution_count": null,
   "metadata": {},
   "outputs": [
    {
     "data": {
      "image/png": "[encoded data removed]",
      "text/plain": [
       "<Figure size 432x432 with 1 Axes>"
      ]
     },
     "metadata": {
      "needs_background": "light"
     },
     "output_type": "display_data"
    },
    {
     "data": {
      "image/png": "[encoded data removed]",
      "text/plain": [
       "<Figure size 432x432 with 1 Axes>"
      ]
     },
     "metadata": {
      "needs_background": "light"
     },
     "output_type": "display_data"
    },
    {
     "name": "stdout",
     "output_type": "stream",
     "text": [
      "209\r"
     ]
    }
   ],
   "source": [
    "random.seed()\n",
    "dipoles = 10\n",
    "steps = 100* dipoles**2\n",
    "k_T = 0.1\n",
    "\n",
    "ising_chain = generate_ising_chain_2D(dipoles)\n",
    "\n",
    "ising_chain = generate_ising_chain_2D(dipoles)\n",
    "config_history = metropolis_2D(ising_chain, steps, k_T, dipoles)\n",
    "\n",
    "plotConfigurations2D(config_history)\n",
    "\n",
    "# configurations = []\n",
    "\n",
    "# J = 1\n",
    "    \n",
    "# eold = energy2D(S)\n",
    "\n",
    "# for n in range(Nsteps):\n",
    "#     trial = S.copy()\n",
    "#     flipi = random.randint(0, Nspins - 1)\n",
    "#     flipj = random.randint(0, Nspins - 1)\n",
    "#     trial[flipi, flipj] = trial[flipi, flipj] * -1\n",
    "#     etrial = energy2D(trial)\n",
    "#     p = np.exp(-(etrial - eold) / kt)\n",
    "#     if random.random() <= p:\n",
    "#         S = trial\n",
    "#         eold = etrial\n",
    "#     if n % Nspins == 0:\n",
    "#         configurations.append(S)\n",
    "\n",
    "# plotConfigurations2D(configurations)"
   ]
  },
  {
   "cell_type": "code",
   "execution_count": null,
   "metadata": {},
   "outputs": [],
   "source": []
  }
 ],
 "metadata": {
  "kernelspec": {
   "display_name": "Python 3",
   "language": "python",
   "name": "python3"
  },
  "language_info": {
   "codemirror_mode": {
    "name": "ipython",
    "version": 3
   },
   "file_extension": ".py",
   "mimetype": "text/x-python",
   "name": "python",
   "nbconvert_exporter": "python",
   "pygments_lexer": "ipython3",
   "version": "3.6.9"
  }
 },
 "nbformat": 4,
 "nbformat_minor": 4
}
