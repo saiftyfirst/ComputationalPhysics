{
 "cells": [
  {
   "cell_type": "code",
   "execution_count": 280,
   "metadata": {},
   "outputs": [],
   "source": [
    "import numpy as np\n",
    "from matplotlib import pyplot as plt\n",
    "from matplotlib import cm\n",
    "from matplotlib.colors import ListedColormap, LinearSegmentedColormap\n",
    "import matplotlib"
   ]
  },
  {
   "cell_type": "code",
   "execution_count": 408,
   "metadata": {},
   "outputs": [],
   "source": [
    "def plot_metropolis_2D(data):\n",
    "    cmap = cm.get_cmap('YlGnBu', 2)\n",
    "    plt.pcolormesh(data, cmap=cmap, rasterized=True, vmin=-4, vmax=4)\n",
    "    plt.show()"
   ]
  },
  {
   "cell_type": "code",
   "execution_count": 409,
   "metadata": {},
   "outputs": [],
   "source": [
    "def generate_ising_chain(dipoles):\n",
    "    chain = np.random.randint(2, size=dipoles)\n",
    "    chain[chain == 0] = -1\n",
    "    return chain"
   ]
  },
  {
   "cell_type": "code",
   "execution_count": 410,
   "metadata": {},
   "outputs": [],
   "source": [
    "def energy(conf, J = 1):\n",
    "    return J * np.sum(np.multiply(conf[:-1], conf[1:]))"
   ]
  },
  {
   "cell_type": "code",
   "execution_count": 411,
   "metadata": {},
   "outputs": [],
   "source": [
    "def metropolis_1D(ising, n, k_T, dipoles):\n",
    "    config = np.array([ising])\n",
    "    for k in range(n):\n",
    "        rand = np.random.randint(0, dipoles)\n",
    "        trial = config[k].copy()\n",
    "        trial[rand] = -trial[rand]\n",
    "        if np.random.uniform(0,1) <= (np.exp((energy(config[k]) - energy(trial)) / k_T)):\n",
    "            config = np.vstack((config, [trial]))\n",
    "        else:\n",
    "            config = np.vstack((config, [config[k]]))\n",
    "    return config"
   ]
  },
  {
   "cell_type": "code",
   "execution_count": 416,
   "metadata": {},
   "outputs": [
    {
     "name": "stdout",
     "output_type": "stream",
     "text": [
      "[[-1  1  1 ... -1 -1 -1]\n",
      " [-1  1  1 ... -1 -1 -1]\n",
      " [-1 -1  1 ... -1 -1 -1]\n",
      " ...\n",
      " [-1  1 -1 ...  1 -1  1]\n",
      " [-1  1 -1 ...  1 -1  1]\n",
      " [-1  1 -1 ...  1 -1  1]]\n"
     ]
    },
    {
     "data": {
      "image/png": "[encoded data removed]",
      "text/plain": [
       "<Figure size 432x288 with 1 Axes>"
      ]
     },
     "metadata": {
      "needs_background": "light"
     },
     "output_type": "display_data"
    }
   ],
   "source": [
    "dipoles = 100\n",
    "k_T = 0.1\n",
    "steps = 10000\n",
    "\n",
    "ising = generate_ising_chain(dipoles)\n",
    "config_history = metropolis_1D(ising, steps, k_T, dipoles)\n",
    "data = [[-1, 1, 1], [-1,1,-1]]\n",
    "print(config_history)\n",
    "\n",
    "plot_metropolis_2D(config_history.T)"
   ]
  }
 ],
 "metadata": {
  "kernelspec": {
   "display_name": "Python 3",
   "language": "python",
   "name": "python3"
  },
  "language_info": {
   "codemirror_mode": {
    "name": "ipython",
    "version": 3
   },
   "file_extension": ".py",
   "mimetype": "text/x-python",
   "name": "python",
   "nbconvert_exporter": "python",
   "pygments_lexer": "ipython3",
   "version": "3.6.8"
  }
 },
 "nbformat": 4,
 "nbformat_minor": 4
}
